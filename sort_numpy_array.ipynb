{
  "nbformat": 4,
  "nbformat_minor": 0,
  "metadata": {
    "colab": {
      "name": "sort numpy array.ipynb",
      "provenance": [],
      "authorship_tag": "ABX9TyPG5GsZLRUKRErwvzODbjng",
      "include_colab_link": true
    },
    "kernelspec": {
      "name": "python3",
      "display_name": "Python 3"
    },
    "language_info": {
      "name": "python"
    }
  },
  "cells": [
    {
      "cell_type": "markdown",
      "metadata": {
        "id": "view-in-github",
        "colab_type": "text"
      },
      "source": [
        "<a href=\"https://colab.research.google.com/github/August65/Sort-numpy-array-/blob/main/sort_numpy_array.ipynb\" target=\"_parent\"><img src=\"https://colab.research.google.com/assets/colab-badge.svg\" alt=\"Open In Colab\"/></a>"
      ]
    },
    {
      "cell_type": "code",
      "metadata": {
        "colab": {
          "base_uri": "https://localhost:8080/"
        },
        "id": "cIFMP-c9GYMw",
        "outputId": "7a9c1059-0eed-4311-bb4e-2a8bf5242164"
      },
      "source": [
        "import numpy as np\n",
        "a=np.array([[1,2,3],[4,1,1],[0,7,10]])\n",
        "print(a)    "
      ],
      "execution_count": null,
      "outputs": [
        {
          "output_type": "stream",
          "text": [
            "[[ 1  2  3]\n",
            " [ 4  1  1]\n",
            " [ 0  7 10]]\n"
          ],
          "name": "stdout"
        }
      ]
    },
    {
      "cell_type": "markdown",
      "metadata": {
        "id": "B3MYPpE7VZK2"
      },
      "source": [
        "We will use **np.argsort[:,j-1]** command to sort by column j (because indexing from 0)\n",
        "so here \"0\" is sorting by first column, \"1\" - by second,\"2\" by third"
      ]
    },
    {
      "cell_type": "code",
      "metadata": {
        "colab": {
          "base_uri": "https://localhost:8080/"
        },
        "id": "RPy8FcQyHV_F",
        "outputId": "0bd080a5-ae0e-46e4-d12d-922eb9eb12bd"
      },
      "source": [
        "b=np.argsort(a[:,0])\n",
        "print(\"original array\")\n",
        "print(a)\n",
        "print(\"b\")\n",
        "print(b)"
      ],
      "execution_count": null,
      "outputs": [
        {
          "output_type": "stream",
          "text": [
            "original array\n",
            "[[ 1  2  3]\n",
            " [ 4  1  1]\n",
            " [ 0  7 10]]\n",
            "b\n",
            "[2 0 1]\n"
          ],
          "name": "stdout"
        }
      ]
    },
    {
      "cell_type": "markdown",
      "metadata": {
        "id": "TlZasfuLV7Et"
      },
      "source": [
        "The output of the command is vector containing indexes of rows to build output - **Sorted array**"
      ]
    },
    {
      "cell_type": "code",
      "metadata": {
        "colab": {
          "base_uri": "https://localhost:8080/"
        },
        "id": "iQZAwZNMWWde",
        "outputId": "53d80d1a-57e4-4e90-9c3b-2e3b714decb4"
      },
      "source": [
        "c=a[b]\n",
        "print(c)"
      ],
      "execution_count": null,
      "outputs": [
        {
          "output_type": "stream",
          "text": [
            "[[ 0  7 10]\n",
            " [ 1  2  3]\n",
            " [ 4  1  1]]\n"
          ],
          "name": "stdout"
        }
      ]
    }
  ]
}